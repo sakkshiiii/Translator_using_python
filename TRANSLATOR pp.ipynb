{
 "cells": [
  {
   "cell_type": "code",
   "execution_count": 1,
   "id": "7d172207",
   "metadata": {},
   "outputs": [
    {
     "name": "stdout",
     "output_type": "stream",
     "text": [
      "Requirement already satisfied: googletrans in c:\\users\\hp elitebook 230g5\\anaconda3\\lib\\site-packages (4.0.2)\n",
      "Requirement already satisfied: httpx[http2]>=0.27.2 in c:\\users\\hp elitebook 230g5\\anaconda3\\lib\\site-packages (from googletrans) (0.28.1)\n",
      "Requirement already satisfied: certifi in c:\\users\\hp elitebook 230g5\\anaconda3\\lib\\site-packages (from httpx[http2]>=0.27.2->googletrans) (2022.12.7)\n",
      "Requirement already satisfied: httpcore==1.* in c:\\users\\hp elitebook 230g5\\anaconda3\\lib\\site-packages (from httpx[http2]>=0.27.2->googletrans) (1.0.7)\n",
      "Requirement already satisfied: anyio in c:\\users\\hp elitebook 230g5\\anaconda3\\lib\\site-packages (from httpx[http2]>=0.27.2->googletrans) (3.5.0)\n",
      "Requirement already satisfied: idna in c:\\users\\hp elitebook 230g5\\anaconda3\\lib\\site-packages (from httpx[http2]>=0.27.2->googletrans) (3.4)\n",
      "Requirement already satisfied: h2<5,>=3 in c:\\users\\hp elitebook 230g5\\anaconda3\\lib\\site-packages (from httpx[http2]>=0.27.2->googletrans) (4.2.0)\n",
      "Requirement already satisfied: h11<0.15,>=0.13 in c:\\users\\hp elitebook 230g5\\anaconda3\\lib\\site-packages (from httpcore==1.*->httpx[http2]>=0.27.2->googletrans) (0.14.0)\n",
      "Requirement already satisfied: hyperframe<7,>=6.1 in c:\\users\\hp elitebook 230g5\\anaconda3\\lib\\site-packages (from h2<5,>=3->httpx[http2]>=0.27.2->googletrans) (6.1.0)\n",
      "Requirement already satisfied: hpack<5,>=4.1 in c:\\users\\hp elitebook 230g5\\anaconda3\\lib\\site-packages (from h2<5,>=3->httpx[http2]>=0.27.2->googletrans) (4.1.0)\n",
      "Requirement already satisfied: sniffio>=1.1 in c:\\users\\hp elitebook 230g5\\anaconda3\\lib\\site-packages (from anyio->httpx[http2]>=0.27.2->googletrans) (1.2.0)\n",
      "Note: you may need to restart the kernel to use updated packages.\n"
     ]
    }
   ],
   "source": [
    "pip install googletrans"
   ]
  },
  {
   "cell_type": "code",
   "execution_count": 2,
   "id": "3aa523e8",
   "metadata": {},
   "outputs": [
    {
     "name": "stdout",
     "output_type": "stream",
     "text": [
      "Requirement already satisfied: textblob in c:\\users\\hp elitebook 230g5\\anaconda3\\lib\\site-packages (0.19.0)\n",
      "Requirement already satisfied: nltk>=3.9 in c:\\users\\hp elitebook 230g5\\anaconda3\\lib\\site-packages (from textblob) (3.9.1)\n",
      "Requirement already satisfied: click in c:\\users\\hp elitebook 230g5\\anaconda3\\lib\\site-packages (from nltk>=3.9->textblob) (8.0.4)\n",
      "Requirement already satisfied: joblib in c:\\users\\hp elitebook 230g5\\anaconda3\\lib\\site-packages (from nltk>=3.9->textblob) (1.1.1)\n",
      "Requirement already satisfied: regex>=2021.8.3 in c:\\users\\hp elitebook 230g5\\anaconda3\\lib\\site-packages (from nltk>=3.9->textblob) (2022.7.9)\n",
      "Requirement already satisfied: tqdm in c:\\users\\hp elitebook 230g5\\anaconda3\\lib\\site-packages (from nltk>=3.9->textblob) (4.64.1)\n",
      "Requirement already satisfied: colorama in c:\\users\\hp elitebook 230g5\\anaconda3\\lib\\site-packages (from click->nltk>=3.9->textblob) (0.4.6)\n",
      "Note: you may need to restart the kernel to use updated packages.\n"
     ]
    }
   ],
   "source": [
    "pip install textblob"
   ]
  },
  {
   "cell_type": "code",
   "execution_count": 2,
   "id": "d9c75633",
   "metadata": {},
   "outputs": [],
   "source": [
    "from tkinter import * \n",
    "from tkinter import ttk,messagebox\n",
    "import googletrans\n",
    "from googletrans import Translator, LANGUAGES\n",
    "import textblob\n",
    "from textblob import TextBlob"
   ]
  },
  {
   "cell_type": "code",
   "execution_count": 4,
   "id": "37b5f9e4",
   "metadata": {},
   "outputs": [],
   "source": [
    "root = Tk()"
   ]
  },
  {
   "cell_type": "code",
   "execution_count": 3,
   "id": "c65abc29",
   "metadata": {},
   "outputs": [
    {
     "name": "stderr",
     "output_type": "stream",
     "text": [
      "Exception in Tkinter callback\n",
      "Traceback (most recent call last):\n",
      "  File \"C:\\Users\\HP ELITEBOOK 230G5\\anaconda3\\lib\\tkinter\\__init__.py\", line 1921, in __call__\n",
      "    return self.func(*args)\n",
      "  File \"C:\\Users\\HP ELITEBOOK 230G5\\AppData\\Local\\Temp\\ipykernel_15868\\1059812471.py\", line 21, in translate_now\n",
      "    lan=words.detect_language()\n",
      "AttributeError: 'TextBlob' object has no attribute 'detect_language'\n"
     ]
    }
   ],
   "source": [
    "root = Tk()\n",
    "root.title(\"Google Translator\")\n",
    "root.geometry(\"1080x400\")\n",
    "\n",
    "\n",
    "def label_change():\n",
    "    c=combo1.get()\n",
    "    c1=combo2.get()\n",
    "    label1.configure(text=c)\n",
    "    label2.configure(text=c1)\n",
    "    root.after(1000,label_change)\n",
    "    \n",
    "def translate_now():\n",
    "    global language\n",
    "\n",
    "    text_= text1.get(1.0,END)\n",
    "    c2=combo1.get()\n",
    "    c3=combo2.get()\n",
    "    if(text_):\n",
    "        words=textblob.TextBlob(text_)\n",
    "        lan=words.detect_language()\n",
    "        for i,j in language.items():\n",
    "            if(j==c3):\n",
    "                lan_=i\n",
    "        words=words.translate(from_lang=lan,to=str(lan_))\n",
    "        text2.delete(1.0,END)\n",
    "        text2.insert(END,words)         \n",
    "    \n",
    "        \n",
    "    \n",
    "# image_icon(left up)\n",
    "image_icon=PhotoImage(file=\"ggl.png\")\n",
    "root.iconphoto(False,image_icon)\n",
    "\n",
    "# arrow\n",
    "arrow_image=PhotoImage(file=\"arro.png\")\n",
    "image_label=Label(root,image=arrow_image,width=150)\n",
    "image_label.place(x=460,y=50)\n",
    "\n",
    "language=googletrans.LANGUAGES\n",
    "languageV=list(language.values())\n",
    "lang1=language.keys()\n",
    "\n",
    "combo1=ttk.Combobox(root,values=languageV,font=\"Roboto 14\",state=\"r\")\n",
    "combo1.place(x=110,y=20)\n",
    "combo1.set(\"ENGLISH\")\n",
    "\n",
    "label1=Label(root,text=\"ENGLISH\",font=\"segoe 30 bold\",bg=\"white\",width=18,bd=5,relief=GROOVE)\n",
    "label1.place(x=10,y=50)\n",
    "\n",
    "f=Frame(root,bg=\"Black\",bd=5)\n",
    "f.place(x=10,y=118,width=440,height=210)\n",
    "\n",
    "text1=Text(f,font=\"Robote 20\",bg=\"white\",relief=GROOVE,wrap=WORD)\n",
    "text1.place(x=0,y=0,width=430,height=200)\n",
    "\n",
    "scrollbar1=Scrollbar(f)\n",
    "scrollbar1.pack(side=\"right\",fill=\"y\")\n",
    "\n",
    "scrollbar1.configure(command=text1.yview)\n",
    "text1.configure(yscrollcommand=scrollbar1.set)\n",
    "\n",
    "\n",
    "\n",
    "combo2=ttk.Combobox(root,values=languageV,font=\"Roboto 14\",state=\"r\")\n",
    "combo2.place(x=730,y=20)\n",
    "combo2.set(\"SELECT LANGUAGE\")\n",
    "\n",
    "label2=Label(root,text=\"ENGLISH\",font=\"segoe 30 bold\",bg=\"white\",width=18,bd=5,\n",
    "             relief=GROOVE)\n",
    "label2.place(x=620,y=50)\n",
    "\n",
    "f1=Frame(root,bg=\"Black\",bd=5)\n",
    "f1.place(x=620,y=118,width=440,height=210)\n",
    "\n",
    "text2=Text(f1,font=\"Robote 20\",bg=\"white\",relief=GROOVE,wrap=WORD)\n",
    "text2.place(x=0,y=0,width=430,height=210)\n",
    "\n",
    "scrollbar2=Scrollbar(f1)\n",
    "scrollbar2.pack(side=\"right\",fill=\"y\")\n",
    "\n",
    "scrollbar2.configure(command=text2.yview)\n",
    "text2.configure(yscrollcommand=scrollbar2.set)\n",
    "\n",
    "# translate button\n",
    "translate=Button(root,text=\"Translate\",font=\"Roboto 15 bold italic\",\n",
    "                activebackground=\"purple\",cursor=\"hand2\",bd=5,\n",
    "                bg=\"red\",fg=\"white\",command=translate_now)\n",
    "\n",
    "translate.place(x=480,y=250)\n",
    "\n",
    "\n",
    "label_change()\n",
    "\n",
    "\n",
    "root.configure(bg=\"white\")\n",
    "\n",
    "root.mainloop()  \n"
   ]
  },
  {
   "cell_type": "code",
   "execution_count": null,
   "id": "e9aa9e72",
   "metadata": {},
   "outputs": [],
   "source": []
  }
 ],
 "metadata": {
  "kernelspec": {
   "display_name": "Python 3 (ipykernel)",
   "language": "python",
   "name": "python3"
  },
  "language_info": {
   "codemirror_mode": {
    "name": "ipython",
    "version": 3
   },
   "file_extension": ".py",
   "mimetype": "text/x-python",
   "name": "python",
   "nbconvert_exporter": "python",
   "pygments_lexer": "ipython3",
   "version": "3.10.9"
  }
 },
 "nbformat": 4,
 "nbformat_minor": 5
}
